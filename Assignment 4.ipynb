{
 "cells": [
  {
   "cell_type": "markdown",
   "id": "7f443786",
   "metadata": {},
   "source": [
    "## Assignment\n",
    "\n",
    "1. On amazon website we have the following available items - \n",
    "\n",
    "```python\n",
    "amazon_website = [(\"watch\", 5000), (\"phone\", 10000), (\"laptop\", 50000), (\"shirt\", 1000)]\n",
    "```\n",
    "Take the user input N no. of times and find out the total cost to be paid?\n",
    "\n",
    "OR\n",
    "\n",
    "You can ask the user quntity or the count of item?\n",
    "\n",
    "if the item is not present in the amazon website then print that item as out of stock and do add it total\n",
    "\n",
    "\n",
    "HINT: while, for loop.. indexing"
   ]
  },
  {
   "cell_type": "code",
   "execution_count": 1,
   "id": "a4e2e747",
   "metadata": {},
   "outputs": [
    {
     "name": "stdout",
     "output_type": "stream",
     "text": [
      "item I want to purchase: phone\n"
     ]
    }
   ],
   "source": [
    "amazon_website = [(\"watch\", 5000),(\"phone\", 10000),(\"laptop\", 50000),(\"shirt\", 1000)]\n",
    "my_choice = input(f\"item I want to purchase: \")"
   ]
  },
  {
   "cell_type": "code",
   "execution_count": 2,
   "id": "488d356e",
   "metadata": {},
   "outputs": [
    {
     "name": "stdout",
     "output_type": "stream",
     "text": [
      "out of stock\n",
      " item is: phone\n",
      "total amount to be paid: 10000\n",
      "out of stock\n",
      "out of stock\n"
     ]
    }
   ],
   "source": [
    "total_cost = 0\n",
    "\n",
    "for item in amazon_website:\n",
    "    if item[0] == my_choice:\n",
    "        print(f\" item is: {my_choice}\")\n",
    "        total_cost = total_cost + item[1]\n",
    "        print(f\"total amount to be paid: {total_cost}\")\n",
    "    else:\n",
    "        print(f\"out of stock\")"
   ]
  },
  {
   "cell_type": "code",
   "execution_count": null,
   "id": "5694b601",
   "metadata": {},
   "outputs": [],
   "source": []
  }
 ],
 "metadata": {
  "kernelspec": {
   "display_name": "Python 3 (ipykernel)",
   "language": "python",
   "name": "python3"
  },
  "language_info": {
   "codemirror_mode": {
    "name": "ipython",
    "version": 3
   },
   "file_extension": ".py",
   "mimetype": "text/x-python",
   "name": "python",
   "nbconvert_exporter": "python",
   "pygments_lexer": "ipython3",
   "version": "3.9.13"
  }
 },
 "nbformat": 4,
 "nbformat_minor": 5
}
